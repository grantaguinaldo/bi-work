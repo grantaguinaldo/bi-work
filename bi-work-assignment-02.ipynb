{
 "cells": [
  {
   "cell_type": "code",
   "execution_count": 1,
   "metadata": {},
   "outputs": [],
   "source": [
    "import pandas as pd\n",
    "import eeweather as ee\n",
    "from folium import plugins\n",
    "import folium\n",
    "from folium.plugins import HeatMap\n",
    "import plotly.express as px\n",
    "import warnings\n",
    "import matplotlib.pyplot as plt\n",
    "%matplotlib inline"
   ]
  },
  {
   "cell_type": "markdown",
   "metadata": {},
   "source": [
    "#### Read in all of the `csv` files as pandas DataFrames."
   ]
  },
  {
   "cell_type": "code",
   "execution_count": 2,
   "metadata": {},
   "outputs": [],
   "source": [
    "df1 = pd.read_csv('Dataset_1.csv')\n",
    "df2 = pd.read_csv('Dataset_2.csv')\n",
    "df3 = pd.read_csv('Dataset_3.csv')"
   ]
  },
  {
   "cell_type": "markdown",
   "metadata": {},
   "source": [
    "### Assignment #2\n",
    "\n",
    "For assignment two, we are provided a dataset with 14 customer phone numbers, and we're asked to develop code to determine if the phone numbers are correct and then return one of the two phone numbers. We like to point out that while this file shows a method to solve this problem using Python, we also solved this problem using the PROC SQL method in SAS (provided in a separate attachment). All of the code for this and the other assignments can be found at the Github repository below.\n",
    "\n",
    "We will also have to code conditions that prioritize Phone Number One over Phone Number Two when Phone Number One is available and in the correct format. On the other hand, we can settle for Phone Number Two if Phone Number One is not available. \n",
    "\n",
    "### Approach\n",
    "In terms of a high-level approach, we need to compare both numbers, determine which one is correct, and then code in logic to return the valid number."
   ]
  },
  {
   "cell_type": "code",
   "execution_count": 3,
   "metadata": {},
   "outputs": [
    {
     "data": {
      "text/html": [
       "<div>\n",
       "<style scoped>\n",
       "    .dataframe tbody tr th:only-of-type {\n",
       "        vertical-align: middle;\n",
       "    }\n",
       "\n",
       "    .dataframe tbody tr th {\n",
       "        vertical-align: top;\n",
       "    }\n",
       "\n",
       "    .dataframe thead th {\n",
       "        text-align: right;\n",
       "    }\n",
       "</style>\n",
       "<table border=\"1\" class=\"dataframe\">\n",
       "  <thead>\n",
       "    <tr style=\"text-align: right;\">\n",
       "      <th></th>\n",
       "      <th>CustomerID</th>\n",
       "      <th>PhoneNumber1</th>\n",
       "      <th>PhoneNumber2</th>\n",
       "    </tr>\n",
       "  </thead>\n",
       "  <tbody>\n",
       "    <tr>\n",
       "      <th>0</th>\n",
       "      <td>1000</td>\n",
       "      <td>9113458738</td>\n",
       "      <td>1.114897e+10</td>\n",
       "    </tr>\n",
       "    <tr>\n",
       "      <th>1</th>\n",
       "      <td>1001</td>\n",
       "      <td>9013458736</td>\n",
       "      <td>1.104897e+09</td>\n",
       "    </tr>\n",
       "    <tr>\n",
       "      <th>2</th>\n",
       "      <td>1002</td>\n",
       "      <td>8913458734</td>\n",
       "      <td>NaN</td>\n",
       "    </tr>\n",
       "    <tr>\n",
       "      <th>3</th>\n",
       "      <td>1003</td>\n",
       "      <td>8813458732</td>\n",
       "      <td>1.084897e+10</td>\n",
       "    </tr>\n",
       "    <tr>\n",
       "      <th>4</th>\n",
       "      <td>1004</td>\n",
       "      <td>aaa</td>\n",
       "      <td>1.074897e+10</td>\n",
       "    </tr>\n",
       "    <tr>\n",
       "      <th>5</th>\n",
       "      <td>1005</td>\n",
       "      <td>8613458728</td>\n",
       "      <td>1.064897e+10</td>\n",
       "    </tr>\n",
       "    <tr>\n",
       "      <th>6</th>\n",
       "      <td>1006</td>\n",
       "      <td>851345872</td>\n",
       "      <td>1.054897e+10</td>\n",
       "    </tr>\n",
       "    <tr>\n",
       "      <th>7</th>\n",
       "      <td>1007</td>\n",
       "      <td>8413458724</td>\n",
       "      <td>4.000000e+00</td>\n",
       "    </tr>\n",
       "    <tr>\n",
       "      <th>8</th>\n",
       "      <td>1008</td>\n",
       "      <td>8313458722</td>\n",
       "      <td>1.034897e+10</td>\n",
       "    </tr>\n",
       "    <tr>\n",
       "      <th>9</th>\n",
       "      <td>1009</td>\n",
       "      <td>NaN</td>\n",
       "      <td>1.024897e+10</td>\n",
       "    </tr>\n",
       "    <tr>\n",
       "      <th>10</th>\n",
       "      <td>1010</td>\n",
       "      <td>8113458718</td>\n",
       "      <td>1.014897e+09</td>\n",
       "    </tr>\n",
       "    <tr>\n",
       "      <th>11</th>\n",
       "      <td>1011</td>\n",
       "      <td>8013458716</td>\n",
       "      <td>1.004897e+10</td>\n",
       "    </tr>\n",
       "    <tr>\n",
       "      <th>12</th>\n",
       "      <td>1012</td>\n",
       "      <td>NaN</td>\n",
       "      <td>9.994897e+10</td>\n",
       "    </tr>\n",
       "    <tr>\n",
       "      <th>13</th>\n",
       "      <td>1013</td>\n",
       "      <td>7813458712</td>\n",
       "      <td>9.824897e+10</td>\n",
       "    </tr>\n",
       "  </tbody>\n",
       "</table>\n",
       "</div>"
      ],
      "text/plain": [
       "    CustomerID PhoneNumber1  PhoneNumber2\n",
       "0         1000   9113458738  1.114897e+10\n",
       "1         1001   9013458736  1.104897e+09\n",
       "2         1002   8913458734           NaN\n",
       "3         1003   8813458732  1.084897e+10\n",
       "4         1004          aaa  1.074897e+10\n",
       "5         1005   8613458728  1.064897e+10\n",
       "6         1006    851345872  1.054897e+10\n",
       "7         1007   8413458724  4.000000e+00\n",
       "8         1008   8313458722  1.034897e+10\n",
       "9         1009          NaN  1.024897e+10\n",
       "10        1010   8113458718  1.014897e+09\n",
       "11        1011   8013458716  1.004897e+10\n",
       "12        1012          NaN  9.994897e+10\n",
       "13        1013   7813458712  9.824897e+10"
      ]
     },
     "execution_count": 3,
     "metadata": {},
     "output_type": "execute_result"
    }
   ],
   "source": [
    "df2"
   ]
  },
  {
   "cell_type": "code",
   "execution_count": 4,
   "metadata": {},
   "outputs": [
    {
     "name": "stdout",
     "output_type": "stream",
     "text": [
      "The dataframe contains 14 rows and 3 columns.\n"
     ]
    }
   ],
   "source": [
    "print('The dataframe contains {} rows and {} columns.'.format(df2.shape[0], df2.shape[1]))"
   ]
  },
  {
   "cell_type": "markdown",
   "metadata": {},
   "source": [
    "### Inspection of Data for Data Types and Missing Values\n",
    "I first looked at the data to figure out if there are any missing values.  From the code below, you do see that there are missing values in the data.  In particular, you see that the total rows of data are not 14, so that means that there are missing values that need to be addressed since the total number of rows is 14.\n",
    "\n",
    "From the data below, you also see that the data types between the three fields are different. You have integers and characters/objects, and so we'll need to address those different types of data. "
   ]
  },
  {
   "cell_type": "code",
   "execution_count": 5,
   "metadata": {},
   "outputs": [
    {
     "name": "stdout",
     "output_type": "stream",
     "text": [
      "<class 'pandas.core.frame.DataFrame'>\n",
      "RangeIndex: 14 entries, 0 to 13\n",
      "Data columns (total 3 columns):\n",
      " #   Column        Non-Null Count  Dtype  \n",
      "---  ------        --------------  -----  \n",
      " 0   CustomerID    14 non-null     int64  \n",
      " 1   PhoneNumber1  12 non-null     object \n",
      " 2   PhoneNumber2  13 non-null     float64\n",
      "dtypes: float64(1), int64(1), object(1)\n",
      "memory usage: 464.0+ bytes\n"
     ]
    }
   ],
   "source": [
    "# From the code below, we observe that the file has missing values. \n",
    "df2.info()"
   ]
  },
  {
   "cell_type": "markdown",
   "metadata": {},
   "source": [
    "### Backfilling Missing Data\n",
    "Since we know that we have missing values, the first thing was to impute a zero for all the missing values in the data frame. "
   ]
  },
  {
   "cell_type": "code",
   "execution_count": 6,
   "metadata": {},
   "outputs": [],
   "source": [
    "# We will input a `0` for all missing values in the dataframe.\n",
    "df2.fillna(0, inplace=True)"
   ]
  },
  {
   "cell_type": "markdown",
   "metadata": {},
   "source": [
    "### Converting Column Names to Lower Case\n",
    "Next, I converted the column names to lowercase, which is a practice that I do out of habit. Following that, I checked that the column names have indeed been converted to lowercase. "
   ]
  },
  {
   "cell_type": "code",
   "execution_count": 7,
   "metadata": {},
   "outputs": [
    {
     "data": {
      "text/plain": [
       "['customerid', 'phonenumber1', 'phonenumber2']"
      ]
     },
     "execution_count": 7,
     "metadata": {},
     "output_type": "execute_result"
    }
   ],
   "source": [
    "#Convert all of the column names to lower case\n",
    "df2.columns = map(str.lower, df2.columns)\n",
    "df2.columns.to_list()"
   ]
  },
  {
   "cell_type": "markdown",
   "metadata": {},
   "source": [
    "### Determine Length of Phone Number (to determine which ones are 'correct').\n",
    "The code below determines each phone number's length, and I am returning the length for each number as its variable. This calculated variable is what will be used to determine if the phone numbers are correct. For this analysis, a number is correct if it has *exactly* ten digits. "
   ]
  },
  {
   "cell_type": "code",
   "execution_count": 8,
   "metadata": {},
   "outputs": [],
   "source": [
    "#Determine length of each phone number.\n",
    "df2['phone1len'] = df2['phonenumber1'].astype(str).apply(len)\n",
    "df2['phonenumber2'] = df2['phonenumber2'].astype(int)\n",
    "df2['phone2len'] = df2['phonenumber2'].astype(str).apply(len)"
   ]
  },
  {
   "cell_type": "markdown",
   "metadata": {},
   "source": [
    "### Selecting Correct Phone Numbers\n",
    "The code below is doing the comparison between both numbers, picking out the correct number.  In this case, we've assumed that the right phone number length is ten digits. Moreover, if it's 11 or more digits, we considered the number incorrect because you don't know if the first digit or the last digit is the extra digit. Also, without knowing the country where these phone numbers originated or the area code, I don't think there is anything more that can be assumed. "
   ]
  },
  {
   "cell_type": "code",
   "execution_count": 9,
   "metadata": {},
   "outputs": [
    {
     "data": {
      "text/plain": [
       "[]"
      ]
     },
     "execution_count": 9,
     "metadata": {},
     "output_type": "execute_result"
    }
   ],
   "source": [
    "#Review each phone number and determine if the number is correct based on the \n",
    "#number of digits. If the number of digits is 10, we assume that the number is correct.\n",
    "#In the even that none of the numbers are correct we return \"invalid_phone\".\n",
    "df2['customerphone'] = ''\n",
    "index_row = []\n",
    "\n",
    "for index, row in df2.iterrows():\n",
    "    try:\n",
    "        if row['phone1len'] == 10:\n",
    "            df2.at[index, 'customerphone'] = row['phonenumber1']\n",
    "        elif (row['phone1len'] < 10) & (row['phone1len']) == 10:\n",
    "            df2.at[index, 'customerphone'] = row['phonenumber2']\n",
    "        else:\n",
    "            df2.at[index, 'customerphone'] = 'invalid_phone'\n",
    "    except:\n",
    "        index_row.append(index)\n",
    "index_row"
   ]
  },
  {
   "cell_type": "markdown",
   "metadata": {},
   "source": [
    "### Final Table\n",
    "We see that out of the 14 phone numbers, four of them have invalid phone numbers (noted as `invalid_phone`) from this work. The four that have invalid phone numbers are so because neither of the numbers contains exactly ten digits.  \n",
    "  \n",
    "In summary, we've written a script that looks at two different phone numbers and determines if the phone numbers are a valid phone number defined by the number of characters of each number. The script also returns one number based on whether or not the number is correct and prioritizes phone number 1 over 2. Again, from this work, we see that out of the 14 phone numbers, four of the phone numbers are invalid, and the remaining ten are valid since they contain exactly ten digits. "
   ]
  },
  {
   "cell_type": "code",
   "execution_count": 10,
   "metadata": {},
   "outputs": [
    {
     "data": {
      "text/html": [
       "<div>\n",
       "<style scoped>\n",
       "    .dataframe tbody tr th:only-of-type {\n",
       "        vertical-align: middle;\n",
       "    }\n",
       "\n",
       "    .dataframe tbody tr th {\n",
       "        vertical-align: top;\n",
       "    }\n",
       "\n",
       "    .dataframe thead th {\n",
       "        text-align: right;\n",
       "    }\n",
       "</style>\n",
       "<table border=\"1\" class=\"dataframe\">\n",
       "  <thead>\n",
       "    <tr style=\"text-align: right;\">\n",
       "      <th></th>\n",
       "      <th>customerid</th>\n",
       "      <th>phonenumber1</th>\n",
       "      <th>phonenumber2</th>\n",
       "      <th>phone1len</th>\n",
       "      <th>phone2len</th>\n",
       "      <th>customerphone</th>\n",
       "    </tr>\n",
       "  </thead>\n",
       "  <tbody>\n",
       "    <tr>\n",
       "      <th>0</th>\n",
       "      <td>1000</td>\n",
       "      <td>9113458738</td>\n",
       "      <td>11148970949</td>\n",
       "      <td>10</td>\n",
       "      <td>11</td>\n",
       "      <td>9113458738</td>\n",
       "    </tr>\n",
       "    <tr>\n",
       "      <th>1</th>\n",
       "      <td>1001</td>\n",
       "      <td>9013458736</td>\n",
       "      <td>1104897094</td>\n",
       "      <td>10</td>\n",
       "      <td>10</td>\n",
       "      <td>9013458736</td>\n",
       "    </tr>\n",
       "    <tr>\n",
       "      <th>2</th>\n",
       "      <td>1002</td>\n",
       "      <td>8913458734</td>\n",
       "      <td>0</td>\n",
       "      <td>10</td>\n",
       "      <td>1</td>\n",
       "      <td>8913458734</td>\n",
       "    </tr>\n",
       "    <tr>\n",
       "      <th>3</th>\n",
       "      <td>1003</td>\n",
       "      <td>8813458732</td>\n",
       "      <td>10848970943</td>\n",
       "      <td>10</td>\n",
       "      <td>11</td>\n",
       "      <td>8813458732</td>\n",
       "    </tr>\n",
       "    <tr>\n",
       "      <th>4</th>\n",
       "      <td>1004</td>\n",
       "      <td>aaa</td>\n",
       "      <td>10748970941</td>\n",
       "      <td>3</td>\n",
       "      <td>11</td>\n",
       "      <td>invalid_phone</td>\n",
       "    </tr>\n",
       "    <tr>\n",
       "      <th>5</th>\n",
       "      <td>1005</td>\n",
       "      <td>8613458728</td>\n",
       "      <td>10648970939</td>\n",
       "      <td>10</td>\n",
       "      <td>11</td>\n",
       "      <td>8613458728</td>\n",
       "    </tr>\n",
       "    <tr>\n",
       "      <th>6</th>\n",
       "      <td>1006</td>\n",
       "      <td>851345872</td>\n",
       "      <td>10548970937</td>\n",
       "      <td>9</td>\n",
       "      <td>11</td>\n",
       "      <td>invalid_phone</td>\n",
       "    </tr>\n",
       "    <tr>\n",
       "      <th>7</th>\n",
       "      <td>1007</td>\n",
       "      <td>8413458724</td>\n",
       "      <td>4</td>\n",
       "      <td>10</td>\n",
       "      <td>1</td>\n",
       "      <td>8413458724</td>\n",
       "    </tr>\n",
       "    <tr>\n",
       "      <th>8</th>\n",
       "      <td>1008</td>\n",
       "      <td>8313458722</td>\n",
       "      <td>10348970933</td>\n",
       "      <td>10</td>\n",
       "      <td>11</td>\n",
       "      <td>8313458722</td>\n",
       "    </tr>\n",
       "    <tr>\n",
       "      <th>9</th>\n",
       "      <td>1009</td>\n",
       "      <td>0</td>\n",
       "      <td>10248970931</td>\n",
       "      <td>1</td>\n",
       "      <td>11</td>\n",
       "      <td>invalid_phone</td>\n",
       "    </tr>\n",
       "    <tr>\n",
       "      <th>10</th>\n",
       "      <td>1010</td>\n",
       "      <td>8113458718</td>\n",
       "      <td>1014897092</td>\n",
       "      <td>10</td>\n",
       "      <td>10</td>\n",
       "      <td>8113458718</td>\n",
       "    </tr>\n",
       "    <tr>\n",
       "      <th>11</th>\n",
       "      <td>1011</td>\n",
       "      <td>8013458716</td>\n",
       "      <td>10048970927</td>\n",
       "      <td>10</td>\n",
       "      <td>11</td>\n",
       "      <td>8013458716</td>\n",
       "    </tr>\n",
       "    <tr>\n",
       "      <th>12</th>\n",
       "      <td>1012</td>\n",
       "      <td>0</td>\n",
       "      <td>99948970925</td>\n",
       "      <td>1</td>\n",
       "      <td>11</td>\n",
       "      <td>invalid_phone</td>\n",
       "    </tr>\n",
       "    <tr>\n",
       "      <th>13</th>\n",
       "      <td>1013</td>\n",
       "      <td>7813458712</td>\n",
       "      <td>98248970923</td>\n",
       "      <td>10</td>\n",
       "      <td>11</td>\n",
       "      <td>7813458712</td>\n",
       "    </tr>\n",
       "  </tbody>\n",
       "</table>\n",
       "</div>"
      ],
      "text/plain": [
       "    customerid phonenumber1  phonenumber2  phone1len  phone2len  customerphone\n",
       "0         1000   9113458738   11148970949         10         11     9113458738\n",
       "1         1001   9013458736    1104897094         10         10     9013458736\n",
       "2         1002   8913458734             0         10          1     8913458734\n",
       "3         1003   8813458732   10848970943         10         11     8813458732\n",
       "4         1004          aaa   10748970941          3         11  invalid_phone\n",
       "5         1005   8613458728   10648970939         10         11     8613458728\n",
       "6         1006    851345872   10548970937          9         11  invalid_phone\n",
       "7         1007   8413458724             4         10          1     8413458724\n",
       "8         1008   8313458722   10348970933         10         11     8313458722\n",
       "9         1009            0   10248970931          1         11  invalid_phone\n",
       "10        1010   8113458718    1014897092         10         10     8113458718\n",
       "11        1011   8013458716   10048970927         10         11     8013458716\n",
       "12        1012            0   99948970925          1         11  invalid_phone\n",
       "13        1013   7813458712   98248970923         10         11     7813458712"
      ]
     },
     "execution_count": 10,
     "metadata": {},
     "output_type": "execute_result"
    }
   ],
   "source": [
    "df2"
   ]
  },
  {
   "cell_type": "code",
   "execution_count": null,
   "metadata": {},
   "outputs": [],
   "source": []
  }
 ],
 "metadata": {
  "kernelspec": {
   "display_name": "Python 3",
   "language": "python",
   "name": "python3"
  },
  "language_info": {
   "codemirror_mode": {
    "name": "ipython",
    "version": 3
   },
   "file_extension": ".py",
   "mimetype": "text/x-python",
   "name": "python",
   "nbconvert_exporter": "python",
   "pygments_lexer": "ipython3",
   "version": "3.8.2"
  }
 },
 "nbformat": 4,
 "nbformat_minor": 4
}
